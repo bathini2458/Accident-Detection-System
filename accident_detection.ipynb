{
  "cells": [
    {
      "cell_type": "code",
      "execution_count": 18,
      "id": "c22e4849",
      "metadata": {
        "_cell_guid": "b1076dfc-b9ad-4769-8c92-a6c4dae69d19",
        "_uuid": "8f2839f25d086af736a60e9eeb907d3b93b6e0e5",
        "execution": {
          "iopub.execute_input": "2022-06-06T11:22:04.284474Z",
          "iopub.status.busy": "2022-06-06T11:22:04.283842Z",
          "iopub.status.idle": "2022-06-06T11:22:10.971949Z",
          "shell.execute_reply": "2022-06-06T11:22:10.971144Z",
          "shell.execute_reply.started": "2022-06-06T10:46:28.537996Z"
        },
        "id": "c22e4849",
        "papermill": {
          "duration": 6.715324,
          "end_time": "2022-06-06T11:22:10.972115",
          "exception": false,
          "start_time": "2022-06-06T11:22:04.256791",
          "status": "completed"
        },
        "tags": []
      },
      "outputs": [],
      "source": [
        "import numpy as np\n",
        "import pandas as pd\n",
        "import matplotlib.pyplot as plt\n",
        "import tensorflow as tf\n",
        "from tensorflow.keras import layers\n",
        "from time import perf_counter\n",
        "import os\n",
        "from keras.callbacks import ModelCheckpoint\n",
        "from keras.models import load_model\n",
        "from tensorflow.keras.utils import plot_model"
      ]
    },
    {
      "cell_type": "code",
      "execution_count": 7,
      "id": "75070279",
      "metadata": {
        "execution": {
          "iopub.execute_input": "2022-06-06T11:22:11.006494Z",
          "iopub.status.busy": "2022-06-06T11:22:11.005804Z",
          "iopub.status.idle": "2022-06-06T11:22:11.008733Z",
          "shell.execute_reply": "2022-06-06T11:22:11.008225Z",
          "shell.execute_reply.started": "2022-06-06T10:46:31.286079Z"
        },
        "id": "75070279",
        "papermill": {
          "duration": 0.021664,
          "end_time": "2022-06-06T11:22:11.008874",
          "exception": false,
          "start_time": "2022-06-06T11:22:10.987210",
          "status": "completed"
        },
        "tags": []
      },
      "outputs": [],
      "source": [
        "## Defining batch specfications\n",
        "batch_size = 100\n",
        "img_height = 250\n",
        "img_width = 250"
      ]
    },
    {
      "cell_type": "code",
      "execution_count": 8,
      "id": "eed3d696",
      "metadata": {
        "execution": {
          "iopub.execute_input": "2022-06-06T11:22:11.043329Z",
          "iopub.status.busy": "2022-06-06T11:22:11.042666Z",
          "iopub.status.idle": "2022-06-06T11:22:11.281141Z",
          "shell.execute_reply": "2022-06-06T11:22:11.281663Z",
          "shell.execute_reply.started": "2022-06-06T10:46:31.292379Z"
        },
        "id": "eed3d696",
        "outputId": "93549db1-5b0c-495e-dcdb-619b12ec879c",
        "papermill": {
          "duration": 0.258275,
          "end_time": "2022-06-06T11:22:11.281841",
          "exception": false,
          "start_time": "2022-06-06T11:22:11.023566",
          "status": "completed"
        },
        "tags": []
      },
      "outputs": [
        {
          "name": "stdout",
          "output_type": "stream",
          "text": [
            "Found 791 files belonging to 2 classes.\n"
          ]
        }
      ],
      "source": [
        "## loading training set\n",
        "training_data = tf.keras.preprocessing.image_dataset_from_directory(\n",
        "    'C:\\\\Users\\\\acs\\\\Downloads\\\\archive (3)\\\\data\\\\train',\n",
        "    seed=42,\n",
        "    image_size= (img_height, img_width),\n",
        "    batch_size=batch_size,\n",
        "    color_mode='rgb'\n",
        ")"
      ]
    },
    {
      "cell_type": "code",
      "execution_count": 9,
      "id": "d52bb780",
      "metadata": {
        "execution": {
          "iopub.execute_input": "2022-06-06T11:22:11.318440Z",
          "iopub.status.busy": "2022-06-06T11:22:11.317741Z",
          "iopub.status.idle": "2022-06-06T11:22:11.437737Z",
          "shell.execute_reply": "2022-06-06T11:22:11.438464Z",
          "shell.execute_reply.started": "2022-06-06T10:46:31.868234Z"
        },
        "id": "d52bb780",
        "outputId": "0770334c-9358-48e3-c8c9-9f356f76c324",
        "papermill": {
          "duration": 0.141084,
          "end_time": "2022-06-06T11:22:11.438707",
          "exception": false,
          "start_time": "2022-06-06T11:22:11.297623",
          "status": "completed"
        },
        "tags": []
      },
      "outputs": [
        {
          "name": "stdout",
          "output_type": "stream",
          "text": [
            "Found 98 files belonging to 2 classes.\n"
          ]
        }
      ],
      "source": [
        "## loading validation dataset\n",
        "validation_data =  tf.keras.preprocessing.image_dataset_from_directory(\n",
        "    'C:\\\\Users\\\\acs\\\\Downloads\\\\archive (3)\\data\\\\val',\n",
        "    seed=42,\n",
        "    image_size= (img_height, img_width),\n",
        "    batch_size=batch_size,\n",
        "    color_mode='rgb'\n",
        ")"
      ]
    },
    {
      "cell_type": "code",
      "execution_count": 10,
      "id": "a5216ed0",
      "metadata": {
        "execution": {
          "iopub.execute_input": "2022-06-06T11:22:11.474428Z",
          "iopub.status.busy": "2022-06-06T11:22:11.473769Z",
          "iopub.status.idle": "2022-06-06T11:22:11.597522Z",
          "shell.execute_reply": "2022-06-06T11:22:11.596930Z",
          "shell.execute_reply.started": "2022-06-06T10:46:31.998384Z"
        },
        "id": "a5216ed0",
        "outputId": "174ed20f-fd12-4356-8e1e-10c7fbff948d",
        "papermill": {
          "duration": 0.142358,
          "end_time": "2022-06-06T11:22:11.597671",
          "exception": false,
          "start_time": "2022-06-06T11:22:11.455313",
          "status": "completed"
        },
        "tags": []
      },
      "outputs": [
        {
          "name": "stdout",
          "output_type": "stream",
          "text": [
            "Found 100 files belonging to 2 classes.\n"
          ]
        }
      ],
      "source": [
        "## loading testing dataset\n",
        "testing_data = tf.keras.preprocessing.image_dataset_from_directory(\n",
        "    'C:\\\\Users\\\\acs\\\\Downloads\\\\archive (3)\\\\data\\\\test',\n",
        "    seed=42,\n",
        "    image_size= (img_height, img_width),\n",
        "    batch_size=batch_size,\n",
        "    color_mode='rgb'\n",
        ")"
      ]
    },
    {
      "cell_type": "code",
      "execution_count": 11,
      "id": "0f6cb045",
      "metadata": {
        "execution": {
          "iopub.execute_input": "2022-06-06T11:22:11.639051Z",
          "iopub.status.busy": "2022-06-06T11:22:11.638119Z",
          "iopub.status.idle": "2022-06-06T11:22:11.642875Z",
          "shell.execute_reply": "2022-06-06T11:22:11.642232Z",
          "shell.execute_reply.started": "2022-06-06T10:46:32.123352Z"
        },
        "id": "0f6cb045",
        "outputId": "94680945-f1fe-4527-bc59-88d96acaba8e",
        "papermill": {
          "duration": 0.029358,
          "end_time": "2022-06-06T11:22:11.643040",
          "exception": false,
          "start_time": "2022-06-06T11:22:11.613682",
          "status": "completed"
        },
        "tags": []
      },
      "outputs": [
        {
          "data": {
            "text/plain": [
              "<_PrefetchDataset element_spec=(TensorSpec(shape=(None, 250, 250, 3), dtype=tf.float32, name=None), TensorSpec(shape=(None,), dtype=tf.int32, name=None))>"
            ]
          },
          "execution_count": 11,
          "metadata": {},
          "output_type": "execute_result"
        }
      ],
      "source": [
        "testing_data"
      ]
    },
    {
      "cell_type": "code",
      "execution_count": 12,
      "id": "cca4892e",
      "metadata": {
        "execution": {
          "iopub.execute_input": "2022-06-06T11:22:11.682246Z",
          "iopub.status.busy": "2022-06-06T11:22:11.681351Z",
          "iopub.status.idle": "2022-06-06T11:22:11.685497Z",
          "shell.execute_reply": "2022-06-06T11:22:11.684898Z",
          "shell.execute_reply.started": "2022-06-06T10:46:32.135442Z"
        },
        "id": "cca4892e",
        "outputId": "b57c06f5-d62f-41a1-b26b-552edc676e25",
        "papermill": {
          "duration": 0.025718,
          "end_time": "2022-06-06T11:22:11.685637",
          "exception": false,
          "start_time": "2022-06-06T11:22:11.659919",
          "status": "completed"
        },
        "tags": []
      },
      "outputs": [
        {
          "data": {
            "text/plain": [
              "['Accident', 'Non Accident']"
            ]
          },
          "execution_count": 12,
          "metadata": {},
          "output_type": "execute_result"
        }
      ],
      "source": [
        "class_names = training_data.class_names\n",
        "class_names"
      ]
    },
    {
      "cell_type": "code",
      "execution_count": 14,
      "id": "5176cc78",
      "metadata": {
        "execution": {
          "iopub.execute_input": "2022-06-06T11:22:11.724575Z",
          "iopub.status.busy": "2022-06-06T11:22:11.723900Z",
          "iopub.status.idle": "2022-06-06T11:22:11.729144Z",
          "shell.execute_reply": "2022-06-06T11:22:11.729655Z",
          "shell.execute_reply.started": "2022-06-06T10:46:32.148210Z"
        },
        "id": "5176cc78",
        "papermill": {
          "duration": 0.027549,
          "end_time": "2022-06-06T11:22:11.729835",
          "exception": false,
          "start_time": "2022-06-06T11:22:11.702286",
          "status": "completed"
        },
        "tags": []
      },
      "outputs": [],
      "source": [
        "## Configuring dataset for performance\n",
        "AUTOTUNE = tf.data.experimental.AUTOTUNE\n",
        "training_data = training_data.cache().prefetch(buffer_size=AUTOTUNE)\n",
        "testing_data = testing_data.cache().prefetch(buffer_size=AUTOTUNE)"
      ]
    },
    {
      "cell_type": "code",
      "execution_count": 15,
      "id": "5434096e",
      "metadata": {},
      "outputs": [
        {
          "name": "stdout",
          "output_type": "stream",
          "text": [
            "Model: \"model_2\"\n",
            "_________________________________________________________________\n",
            " Layer (type)                Output Shape              Param #   \n",
            "=================================================================\n",
            " input_3 (InputLayer)        [(None, 250, 250, 3)]     0         \n",
            "                                                                 \n",
            " batch_normalization_2 (Bat  (None, 250, 250, 3)       12        \n",
            " chNormalization)                                                \n",
            "                                                                 \n",
            " conv2d_8 (Conv2D)           (None, 250, 250, 32)      896       \n",
            "                                                                 \n",
            " max_pooling2d_8 (MaxPoolin  (None, 125, 125, 32)      0         \n",
            " g2D)                                                            \n",
            "                                                                 \n",
            " conv2d_9 (Conv2D)           (None, 125, 125, 64)      18496     \n",
            "                                                                 \n",
            " max_pooling2d_9 (MaxPoolin  (None, 62, 62, 64)        0         \n",
            " g2D)                                                            \n",
            "                                                                 \n",
            " conv2d_10 (Conv2D)          (None, 62, 62, 128)       73856     \n",
            "                                                                 \n",
            " max_pooling2d_10 (MaxPooli  (None, 31, 31, 128)       0         \n",
            " ng2D)                                                           \n",
            "                                                                 \n",
            " conv2d_11 (Conv2D)          (None, 31, 31, 256)       295168    \n",
            "                                                                 \n",
            " max_pooling2d_11 (MaxPooli  (None, 15, 15, 256)       0         \n",
            " ng2D)                                                           \n",
            "                                                                 \n",
            " flatten_2 (Flatten)         (None, 57600)             0         \n",
            "                                                                 \n",
            " dense_4 (Dense)             (None, 512)               29491712  \n",
            "                                                                 \n",
            " dense_5 (Dense)             (None, 1)                 513       \n",
            "                                                                 \n",
            "=================================================================\n",
            "Total params: 29880653 (113.99 MB)\n",
            "Trainable params: 29880647 (113.99 MB)\n",
            "Non-trainable params: 6 (24.00 Byte)\n",
            "_________________________________________________________________\n",
            "Epoch 1/5\n",
            "8/8 [==============================] - ETA: 0s - loss: 2.8373 - accuracy: 0.4728  \n",
            "Epoch 1: val_accuracy improved from -inf to 0.53061, saving model to model_weights.h5\n"
          ]
        },
        {
          "name": "stderr",
          "output_type": "stream",
          "text": [
            "c:\\Users\\acs\\anaconda3\\Lib\\site-packages\\keras\\src\\engine\\training.py:3079: UserWarning: You are saving your model as an HDF5 file via `model.save()`. This file format is considered legacy. We recommend using instead the native Keras format, e.g. `model.save('my_model.keras')`.\n",
            "  saving_api.save_model(\n"
          ]
        },
        {
          "name": "stdout",
          "output_type": "stream",
          "text": [
            "8/8 [==============================] - 1013s 131s/step - loss: 2.8373 - accuracy: 0.4728 - val_loss: 0.6946 - val_accuracy: 0.5306\n",
            "Epoch 2/5\n",
            "8/8 [==============================] - ETA: 0s - loss: 0.6935 - accuracy: 0.5171  \n",
            "Epoch 2: val_accuracy improved from 0.53061 to 0.54082, saving model to model_weights.h5\n",
            "8/8 [==============================] - 852s 110s/step - loss: 0.6935 - accuracy: 0.5171 - val_loss: 0.6850 - val_accuracy: 0.5408\n",
            "Epoch 3/5\n",
            "8/8 [==============================] - ETA: 0s - loss: 0.6635 - accuracy: 0.6207  \n",
            "Epoch 3: val_accuracy did not improve from 0.54082\n",
            "8/8 [==============================] - 814s 101s/step - loss: 0.6635 - accuracy: 0.6207 - val_loss: 0.6906 - val_accuracy: 0.4694\n",
            "Epoch 4/5\n",
            "8/8 [==============================] - ETA: 0s - loss: 0.6454 - accuracy: 0.6283  \n",
            "Epoch 4: val_accuracy did not improve from 0.54082\n",
            "8/8 [==============================] - 994s 129s/step - loss: 0.6454 - accuracy: 0.6283 - val_loss: 0.8739 - val_accuracy: 0.4694\n",
            "Epoch 5/5\n",
            "8/8 [==============================] - ETA: 0s - loss: 0.6174 - accuracy: 0.6587  \n",
            "Epoch 5: val_accuracy improved from 0.54082 to 0.57143, saving model to model_weights.h5\n",
            "8/8 [==============================] - 968s 122s/step - loss: 0.6174 - accuracy: 0.6587 - val_loss: 0.6565 - val_accuracy: 0.5714\n"
          ]
        }
      ],
      "source": [
        "import tensorflow as tf\n",
        "from tensorflow.keras import layers\n",
        "\n",
        "def create_binary_efficientdet_model(input_shape):\n",
        "    inputs = tf.keras.Input(shape=input_shape)\n",
        "    x = layers.BatchNormalization()(inputs)\n",
        "    x = layers.Conv2D(32, 3, activation='relu', padding='same')(x)\n",
        "    x = layers.MaxPooling2D()(x)\n",
        "    x = layers.Conv2D(64, 3, activation='relu', padding='same')(x)\n",
        "    x = layers.MaxPooling2D()(x)\n",
        "    x = layers.Conv2D(128, 3, activation='relu', padding='same')(x)\n",
        "    x = layers.MaxPooling2D()(x)\n",
        "    x = layers.Conv2D(256, 3, activation='relu', padding='same')(x)\n",
        "    x = layers.MaxPooling2D()(x)\n",
        "    x = layers.Flatten()(x)\n",
        "    x = layers.Dense(512, activation='relu')(x)\n",
        "    outputs = layers.Dense(1, activation='sigmoid')(x)  # Using sigmoid activation for binary classification\n",
        "\n",
        "    model = tf.keras.Model(inputs, outputs)\n",
        "    return model\n",
        "\n",
        "# Define input shape\n",
        "input_shape = (250, 250, 3)\n",
        "\n",
        "# Create EfficientDet-like model for binary classification\n",
        "model = create_binary_efficientdet_model(input_shape)\n",
        "\n",
        "# Compile the model\n",
        "model.compile(optimizer='adam', loss='binary_crossentropy', metrics=['accuracy'])\n",
        "\n",
        "# Summary of the model\n",
        "model.summary()\n",
        "\n",
        "# Training the model\n",
        "checkpoint = tf.keras.callbacks.ModelCheckpoint(\"model_weights.h5\", monitor='val_accuracy', verbose=1, save_best_only=True, mode='max')\n",
        "callbacks_list = [checkpoint]\n",
        "history = model.fit(training_data, validation_data=validation_data, epochs=5, callbacks=callbacks_list)\n"
      ]
    },
    {
      "cell_type": "code",
      "execution_count": 16,
      "id": "1d0e4f18",
      "metadata": {
        "execution": {
          "iopub.execute_input": "2022-06-06T11:45:04.374139Z",
          "iopub.status.busy": "2022-06-06T11:45:04.373501Z",
          "iopub.status.idle": "2022-06-06T11:45:04.381286Z",
          "shell.execute_reply": "2022-06-06T11:45:04.381827Z",
          "shell.execute_reply.started": "2022-06-06T11:11:37.400737Z"
        },
        "id": "1d0e4f18",
        "papermill": {
          "duration": 0.09748,
          "end_time": "2022-06-06T11:45:04.382001",
          "exception": false,
          "start_time": "2022-06-06T11:45:04.284521",
          "status": "completed"
        },
        "tags": []
      },
      "outputs": [],
      "source": [
        "###### serialize model structure to JSON\n",
        "model_json = model.to_json()\n",
        "with open(\"model.json\", \"w\") as json_file:\n",
        "    json_file.write(model_json)"
      ]
    },
    {
      "cell_type": "code",
      "execution_count": 19,
      "id": "4f688b53",
      "metadata": {
        "execution": {
          "iopub.execute_input": "2022-06-06T11:45:04.565527Z",
          "iopub.status.busy": "2022-06-06T11:45:04.564796Z",
          "iopub.status.idle": "2022-06-06T11:45:04.856344Z",
          "shell.execute_reply": "2022-06-06T11:45:04.855786Z",
          "shell.execute_reply.started": "2022-06-06T11:11:37.410351Z"
        },
        "id": "4f688b53",
        "outputId": "299b45c0-b879-43d9-f17a-98436995fe96",
        "papermill": {
          "duration": 0.389861,
          "end_time": "2022-06-06T11:45:04.856513",
          "exception": false,
          "start_time": "2022-06-06T11:45:04.466652",
          "status": "completed"
        },
        "tags": []
      },
      "outputs": [
        {
          "data": {
            "text/plain": [
              "<matplotlib.legend.Legend at 0x224c2e81ad0>"
            ]
          },
          "execution_count": 19,
          "metadata": {},
          "output_type": "execute_result"
        },
        {
          "data": {
            "image/png": "[encoded data removed]",
            "text/plain": [
              "<Figure size 640x480 with 1 Axes>"
            ]
          },
          "metadata": {},
          "output_type": "display_data"
        }
      ],
      "source": [
        "## stats on training data\n",
        "plt.plot(history.history['loss'], label = 'training loss')\n",
        "plt.plot(history.history['accuracy'], label = 'training accuracy')\n",
        "plt.grid(True)\n",
        "plt.legend()"
      ]
    },
    {
      "cell_type": "code",
      "execution_count": 20,
      "id": "aeb2c132",
      "metadata": {
        "execution": {
          "iopub.execute_input": "2022-06-06T11:45:05.034670Z",
          "iopub.status.busy": "2022-06-06T11:45:05.033702Z",
          "iopub.status.idle": "2022-06-06T11:45:05.272214Z",
          "shell.execute_reply": "2022-06-06T11:45:05.271694Z",
          "shell.execute_reply.started": "2022-06-06T11:11:37.692730Z"
        },
        "id": "aeb2c132",
        "outputId": "a389626b-b205-400e-ec6e-dea783f55f0a",
        "papermill": {
          "duration": 0.329018,
          "end_time": "2022-06-06T11:45:05.272358",
          "exception": false,
          "start_time": "2022-06-06T11:45:04.943340",
          "status": "completed"
        },
        "tags": []
      },
      "outputs": [
        {
          "data": {
            "text/plain": [
              "<matplotlib.legend.Legend at 0x224c2cc9390>"
            ]
          },
          "execution_count": 20,
          "metadata": {},
          "output_type": "execute_result"
        },
        {
          "data": {
            "image/png": "[encoded data removed]",
            "text/plain": [
              "<Figure size 640x480 with 1 Axes>"
            ]
          },
          "metadata": {},
          "output_type": "display_data"
        }
      ],
      "source": [
        "## stats on training data\n",
        "plt.plot(history.history['val_loss'], label = 'validation loss')\n",
        "plt.plot(history.history['val_accuracy'], label = 'validation accuracy')\n",
        "plt.grid(True)\n",
        "plt.legend()"
      ]
    },
    {
      "cell_type": "code",
      "execution_count": null,
      "id": "5c1b2041",
      "metadata": {
        "execution": {
          "iopub.execute_input": "2022-06-06T11:45:05.457449Z",
          "iopub.status.busy": "2022-06-06T11:45:05.456580Z",
          "iopub.status.idle": "2022-06-06T11:45:12.629447Z",
          "shell.execute_reply": "2022-06-06T11:45:12.628843Z",
          "shell.execute_reply.started": "2022-06-06T11:11:37.935322Z"
        },
        "id": "5c1b2041",
        "papermill": {
          "duration": 7.269324,
          "end_time": "2022-06-06T11:45:12.629596",
          "exception": false,
          "start_time": "2022-06-06T11:45:05.360272",
          "status": "completed"
        },
        "tags": []
      },
      "outputs": [],
      "source": []
    },
    {
      "cell_type": "code",
      "execution_count": null,
      "id": "8663a254",
      "metadata": {
        "id": "8663a254",
        "papermill": {
          "duration": 0.148052,
          "end_time": "2022-06-06T11:45:12.933355",
          "exception": false,
          "start_time": "2022-06-06T11:45:12.785303",
          "status": "completed"
        },
        "tags": []
      },
      "outputs": [],
      "source": []
    }
  ],
  "metadata": {
    "colab": {
      "provenance": []
    },
    "interpreter": {
      "hash": "916dbcbb3f70747c44a77c7bcd40155683ae19c65e1c03b4aa3499c5328201f1"
    },
    "kernelspec": {
      "display_name": "Python 3.8.10 64-bit",
      "language": "python",
      "name": "python3"
    },
    "language_info": {
      "codemirror_mode": {
        "name": "ipython",
        "version": 3
      },
      "file_extension": ".py",
      "mimetype": "text/x-python",
      "name": "python",
      "nbconvert_exporter": "python",
      "pygments_lexer": "ipython3",
      "version": "3.8.10"
    },
    "papermill": {
      "default_parameters": {},
      "duration": 1402.432589,
      "end_time": "2022-06-06T11:45:16.380977",
      "environment_variables": {},
      "exception": null,
      "input_path": "__notebook__.ipynb",
      "output_path": "__notebook__.ipynb",
      "parameters": {},
      "start_time": "2022-06-06T11:21:53.948388",
      "version": "2.3.3"
    }
  },
  "nbformat": 4,
  "nbformat_minor": 5
}
